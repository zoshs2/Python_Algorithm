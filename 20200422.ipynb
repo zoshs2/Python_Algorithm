{
 "cells": [
  {
   "cell_type": "markdown",
   "metadata": {},
   "source": [
    "# 이중연결리스트(Double Linked List)\n",
    "<font size=3> 이중연결리스트는 사실 하나의 노드의 하나의 링크인 거에서 <br>\n",
    "하나의 노드에 두 개의 링크로 달라진 것밖에 없다. <br>\n",
    "링크가 한 쪽 방향(이를테면 next)으로만 이어져있었다면,<br>\n",
    "이중연결리스트는 next 뿐 아니라 prev 링크도 가지고 있다. </font>"
   ]
  },
  {
   "cell_type": "code",
   "execution_count": 4,
   "metadata": {},
   "outputs": [],
   "source": [
    "#!/usr/bin/python\n",
    "\n",
    "class Node:\n",
    "    def __init__(self, data, next=None, prev=None): # prev매개변수가 추가되었다. 링크의 역할.\n",
    "        self.data = data\n",
    "        self.next = next\n",
    "        self.prev = prev\n",
    "    \n",
    "def init_list():\n",
    "    node_A = Node(\"A\")\n",
    "    node_B = Node(\"B\")\n",
    "    node_D = Node(\"D\")\n",
    "    node_E = Node(\"E\")\n",
    "    \n",
    "    node_A.next = node_B\n",
    "    node_B.next = node_D\n",
    "    node_D.next = node_E\n",
    "    node_B.prev = node_A\n",
    "    node_D.prev = node_B\n",
    "    node_E.prev = node_D\n",
    "    return node_A\n",
    "    \n",
    "def print_list(node_A):\n",
    "    node = node_A\n",
    "    while node:\n",
    "        print(node.data)\n",
    "        node = node.next\n",
    "    print()\n"
   ]
  },
  {
   "cell_type": "code",
   "execution_count": 14,
   "metadata": {},
   "outputs": [
    {
     "name": "stdout",
     "output_type": "stream",
     "text": [
      "연결리스트 초기화 후\n",
      "A\n",
      "B\n",
      "D\n",
      "E\n",
      "\n"
     ]
    }
   ],
   "source": [
    "if __name__ == '__main__':\n",
    "    print(\"연결리스트 초기화 후\")\n",
    "    node_A = init_list()\n",
    "    # print(node_A.data)\n",
    "    print_list(node_A) # 그런데 희한한게 def 안에서 선언되었던 instances of class 들이 def. 가 실행이 종료되고 나서도 계속 살아있다는 거네? \n",
    "                       # 실체는 존재하지 않지만 (that is, the actual object has been gone.) 주소값과 그에 대한 정보들은 살아 있는건가\n",
    "    "
   ]
  },
  {
   "cell_type": "markdown",
   "metadata": {},
   "source": [
    "<font size=5> **이중연결리스트의 삽입알고리즘** </font> <br><br>\n",
    "<font size=3> 앞서 **단일연결리스트**의 경우에는 노드를 새로 추가할 때, <br>\n",
    "새로 추가하는 노드의 next를 먼저 잇고**(1)**, <br>\n",
    "앞선 노드의 next(링크)를 새로 추가하는 노드와 연결시켰다**(2)**. (그리고 이 **순서는 매우 중요**하다고 했었다!) <br><br>\n",
    "**_이중연결리스트_** 의 경우도 비슷하다. <br>\n",
    "우선, **(1)**새로 추가하는 노드의 next(링크)를 먼저 잇고,<br>\n",
    "**(2)**앞선 노드의 next(링크)를 새로 추가하는 노드와 연결시킨다.<br>\n",
    "그리고, **(3)**새로 추가하는 노드의 prev(링크)를 앞선 노드와 연결시키고,<br>\n",
    "**(4)**뒤따라오는 노드의 prev(링크)를 새로 추가하는 노드와 연결시킨다. </font>"
   ]
  },
  {
   "cell_type": "code",
   "execution_count": 41,
   "metadata": {},
   "outputs": [],
   "source": [
    "# 4.1.2 이중연결리스트의 삽입 알고리즘\n",
    "#!/usr/bin/python\n",
    "class Node:\n",
    "    def __init__(self, data, next=None, prev=None):\n",
    "        self.data = data\n",
    "        self.next = next\n",
    "        self.prev = prev\n",
    "\n",
    "def init_list():\n",
    "    node_A = Node(\"A\")\n",
    "    node_B = Node(\"B\")\n",
    "    node_D = Node(\"D\")\n",
    "    node_E = Node(\"E\")\n",
    "    \n",
    "    node_A.next = node_B\n",
    "    node_B.next = node_D\n",
    "    node_D.next = node_E\n",
    "    node_B.prev = node_A\n",
    "    node_D.prev = node_B\n",
    "    node_E.prev = node_D\n",
    "    return node_A\n",
    "\n",
    "def delete_node(data, node_A):\n",
    "    node = node_A\n",
    "    \n",
    "    #first\n",
    "    if node.data == data:\n",
    "        node.next.prev = None\n",
    "        node_A = node.next\n",
    "        del node\n",
    "        return node_A\n",
    "    \n",
    "    else:\n",
    "        node_H = node # 나중에 while문이 끝나고, return node_H 시작포인트로 쓸 것\n",
    "        \n",
    "    node = node.next\n",
    "    while node:\n",
    "        \n",
    "        if node.data == data:\n",
    "            # 근데 만약 지우려는 노드가 마지막 노드인 경우\n",
    "            if node.next is None:\n",
    "                node.prev.next = None\n",
    "                print(f\"맨 끝에 있는 {node.data} 노드데이터가 지워졌습니다.\")\n",
    "                del node\n",
    "                break\n",
    "                \n",
    "            node.next.prev = node.prev\n",
    "            node.prev.next = node.next\n",
    "            print(f\"{node.data} 노드 데이터가 지워졌습니다.\")\n",
    "            del node\n",
    "            break\n",
    "        \n",
    "        node = node.next\n",
    "        if node is None:\n",
    "            print(\"The data you want to delete is not existed.\")\n",
    "            break\n",
    "    \n",
    "    \n",
    "    return node_H\n",
    "            \n",
    "\n",
    "def insert_node(data, node_A):\n",
    "    new_node = Node(data)\n",
    "    node_P = node_A\n",
    "    node_T = node_A\n",
    "    while node_T.data <= data:\n",
    "        node_P = node_T\n",
    "        node_T = node_T.next\n",
    "    \n",
    "    new_node.next = node_T # 1) 새로 추가하는 노드의 next링크를 먼저 연결하고\n",
    "    node_P.next = new_node # 2) 앞선 노드의 next링크를 새로 추가하는 노드에 연결하고\n",
    "    new_node.prev = node_P # 3) 새로 추가하는 노드의 prev링크를 앞의 노드와 연결하고\n",
    "    node_T.prev = new_node # 4) 뒤따라오는 노드의 prev링크를 새로 추가하는 노드와 연결한다.\n",
    "                           # 결국 next, prev 링크 둘 다 새로 추가하는 노드를 기준으로 먼저 이루어진다.\n",
    "def print_list(node_A):\n",
    "    node = node_A\n",
    "    while node:\n",
    "        print(node.data)\n",
    "        node = node.next\n",
    "    print()\n",
    "    "
   ]
  },
  {
   "cell_type": "code",
   "execution_count": 43,
   "metadata": {},
   "outputs": [
    {
     "name": "stdout",
     "output_type": "stream",
     "text": [
      "연결 리스트 초기화 후\n",
      "A\n",
      "B\n",
      "D\n",
      "E\n",
      "\n",
      "노드 C의 추가 후\n",
      "A\n",
      "B\n",
      "C\n",
      "D\n",
      "E\n",
      "\n",
      "노드 마지막 E의 삭제 후\n",
      "맨 끝에 있는 E 노드데이터가 지워졌습니다.\n",
      "A\n",
      "B\n",
      "C\n",
      "D\n",
      "\n"
     ]
    }
   ],
   "source": [
    "if __name__ == \"__main__\":\n",
    "    print(\"연결 리스트 초기화 후\")\n",
    "    node_A = init_list()\n",
    "    print_list(node_A)\n",
    "    \n",
    "    print(\"노드 C의 추가 후\")\n",
    "    insert_node(\"C\", node_A)\n",
    "    print_list(node_A)\n",
    "    \n",
    "    print(\"노드 마지막 E의 삭제 후\")\n",
    "    node_A = delete_node(\"E\", node_A)\n",
    "    print_list(node_A)\n",
    "    "
   ]
  },
  {
   "cell_type": "markdown",
   "metadata": {},
   "source": [
    "# Lesson 05 : 스택(Stack)과 큐(Queue)"
   ]
  },
  {
   "cell_type": "code",
   "execution_count": 44,
   "metadata": {},
   "outputs": [],
   "source": [
    "#!/usr/bin/python\n",
    "\n",
    "def push(item):\n",
    "    stack.append(item)\n",
    "    \n",
    "def pop():\n",
    "    return stack.pop()"
   ]
  },
  {
   "cell_type": "code",
   "execution_count": 49,
   "metadata": {},
   "outputs": [
    {
     "name": "stdout",
     "output_type": "stream",
     "text": [
      "현재 stack의 모습\n",
      "[1, 2, 3, 4]\n",
      "POP > 4.0\n",
      "POP > 3.0\n",
      "POP > 2.0\n",
      "POP > 1.0\n"
     ]
    }
   ],
   "source": [
    "if __name__ == \"__main__\":\n",
    "    stack = []\n",
    "    push(1)\n",
    "    push(2)\n",
    "    push(3)\n",
    "    push(4)\n",
    "    \n",
    "    print(\"현재 stack의 모습\")\n",
    "    print(stack)\n",
    "    \n",
    "    while stack:\n",
    "        print(f\"POP > {pop():.1f}\")"
   ]
  },
  {
   "cell_type": "markdown",
   "metadata": {},
   "source": [
    "## 스택(Stack)의 응용 : 계산기\n",
    "<font size=3> 스택을 응용한 프로그램들은 굉장히 대단히 많지만, <br>\n",
    "그 중에서 쉽게 구현할 수 있고 또 스택의 기능을 적나라하게 알아볼 수 있는 프로그램은 **계산기 프로그램**이다."
   ]
  },
  {
   "cell_type": "markdown",
   "metadata": {},
   "source": [
    "<font size=3> 이걸보자마자 **에이 너무 시시한거 아니냐**라고 말하는 지금의 당신.<br>\n",
    "사실 *계산기 프로그램* 은 그렇게 쉬운 프로그램이 아니다.<br>\n",
    "스택(stack)의 자료구조를 사용하면 그나마 좀 쉬워지지만<br>\n",
    "스택을 사용하지 않고 계산기 프로그램을 만드는 것은 보통 어려운 일이 아니다.</font>"
   ]
  },
  {
   "cell_type": "code",
   "execution_count": 50,
   "metadata": {},
   "outputs": [
    {
     "data": {
      "text/plain": [
       "0"
      ]
     },
     "execution_count": 50,
     "metadata": {},
     "output_type": "execute_result"
    }
   ],
   "source": [
    "queue = []\n",
    "len(queue)"
   ]
  },
  {
   "cell_type": "code",
   "execution_count": 51,
   "metadata": {},
   "outputs": [],
   "source": [
    "class Queue:\n",
    "    def __init__(self):\n",
    "        self.Queue_item = []\n",
    "        \n",
    "    def Enqueue(self, x):\n",
    "        self.Queue_item.append(x)\n",
    "        return None\n",
    "    \n",
    "    def Dequeue(self):\n",
    "        Queue_len = len(self.Queue_item)\n",
    "        if Queue_len == 0:\n",
    "            print(\"Queue is empty!\")\n",
    "            return False\n",
    "        \n",
    "        result = self.Queue_item[0]\n",
    "        del self.Queue_item[0]\n",
    "        return result\n",
    "    \n",
    "    def isEmpty(self):\n",
    "        return not self.Queue_item"
   ]
  },
  {
   "cell_type": "code",
   "execution_count": 52,
   "metadata": {},
   "outputs": [
    {
     "name": "stdout",
     "output_type": "stream",
     "text": [
      "[]\n"
     ]
    }
   ],
   "source": [
    "test = Queue()\n",
    "print(test.Queue_item)"
   ]
  },
  {
   "cell_type": "code",
   "execution_count": 53,
   "metadata": {},
   "outputs": [
    {
     "name": "stdout",
     "output_type": "stream",
     "text": [
      "[1]\n",
      "1\n"
     ]
    }
   ],
   "source": [
    "test.Enqueue(1)\n",
    "print(test.Queue_item)\n",
    "print(test.Dequeue())"
   ]
  },
  {
   "cell_type": "code",
   "execution_count": 54,
   "metadata": {},
   "outputs": [],
   "source": [
    "test.Enqueue(2)\n",
    "test.Enqueue(3)\n",
    "test.Enqueue(4)\n",
    "test.Enqueue(5)"
   ]
  },
  {
   "cell_type": "code",
   "execution_count": 74,
   "metadata": {},
   "outputs": [
    {
     "name": "stdout",
     "output_type": "stream",
     "text": [
      "[1]\n",
      "1\n",
      "Queue is empty!\n",
      "False\n",
      "Queue is empty!\n",
      "False\n",
      "Queue is empty!\n",
      "False\n",
      "Queue is empty!\n",
      "False\n"
     ]
    }
   ],
   "source": [
    "print(test.Queue_item)\n",
    "print(test.Dequeue())\n",
    "print(test.Dequeue())\n",
    "print(test.Dequeue())\n",
    "print(test.Dequeue())\n",
    "print(test.Dequeue())"
   ]
  },
  {
   "cell_type": "code",
   "execution_count": 60,
   "metadata": {},
   "outputs": [
    {
     "data": {
      "text/plain": [
       "[]"
      ]
     },
     "execution_count": 60,
     "metadata": {},
     "output_type": "execute_result"
    }
   ],
   "source": [
    "test.Queue_item"
   ]
  },
  {
   "cell_type": "code",
   "execution_count": 61,
   "metadata": {},
   "outputs": [],
   "source": [
    "test.Enqueue(1)"
   ]
  },
  {
   "cell_type": "code",
   "execution_count": 70,
   "metadata": {},
   "outputs": [
    {
     "data": {
      "text/plain": [
       "[1]"
      ]
     },
     "execution_count": 70,
     "metadata": {},
     "output_type": "execute_result"
    }
   ],
   "source": [
    "test.Queue_item"
   ]
  },
  {
   "cell_type": "code",
   "execution_count": 72,
   "metadata": {},
   "outputs": [
    {
     "data": {
      "text/plain": [
       "0"
      ]
     },
     "execution_count": 72,
     "metadata": {},
     "output_type": "execute_result"
    }
   ],
   "source": [
    "test.Queue_item and 0"
   ]
  },
  {
   "cell_type": "code",
   "execution_count": 75,
   "metadata": {},
   "outputs": [
    {
     "name": "stdout",
     "output_type": "stream",
     "text": [
      "True\n"
     ]
    }
   ],
   "source": [
    "print(test.isEmpty())"
   ]
  },
  {
   "cell_type": "code",
   "execution_count": null,
   "metadata": {},
   "outputs": [],
   "source": []
  }
 ],
 "metadata": {
  "kernelspec": {
   "display_name": "Python 3",
   "language": "python",
   "name": "python3"
  },
  "language_info": {
   "codemirror_mode": {
    "name": "ipython",
    "version": 3
   },
   "file_extension": ".py",
   "mimetype": "text/x-python",
   "name": "python",
   "nbconvert_exporter": "python",
   "pygments_lexer": "ipython3",
   "version": "3.7.4"
  }
 },
 "nbformat": 4,
 "nbformat_minor": 4
}
