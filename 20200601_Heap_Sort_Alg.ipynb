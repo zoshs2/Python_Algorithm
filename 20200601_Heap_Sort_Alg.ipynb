{
 "cells": [
  {
   "cell_type": "code",
   "execution_count": 16,
   "metadata": {},
   "outputs": [],
   "source": [
    "# 힙 정렬 알고리즘 (Heap Sort Algorithm)\n",
    "# 아래 예제 코드는 UPHEAP 알고리즘 코드이기에 \"\"내림차순\"\"으로 정렬된다.\n",
    "# 힙 정렬 알고리즘은 \"트리 구조(Tree)\"로 구성되며, 루트 노드가 가장 큰 값을 갖게 된다.\n",
    "\n",
    "def left_node(idx=None):\n",
    "    return ( (idx + 1) << 1 ) -1 # << x : left shift bitwise operator; 2진수 비트를 왼쪽으로 x칸 밀어버린다.\n",
    "\n",
    "def right_node(idx=None):\n",
    "    return (idx + 1) << 1\n",
    "\n",
    "def up_heap(mylist=None, idx=None, heap_size=None):\n",
    "    l_node = left_node(idx)\n",
    "    r_node = right_node(idx)\n",
    "    \n",
    "    if l_node <= heap_size and mylist[l_node] > mylist[idx]:\n",
    "        largest = l_node\n",
    "    else:\n",
    "        largest = idx\n",
    "    \n",
    "    if r_node <= heap_size and mylist[r_node] > mylist[largest]:\n",
    "        largest = r_node\n",
    "    if largest != idx:\n",
    "        mylist[idx], mylist[largest] = mylist[largest], mylist[idx]\n",
    "        up_heap(mylist, largest, heap_size)\n",
    "        \n",
    "def build_heap(mylist=None):\n",
    "    heap_size = len(mylist) - 1\n",
    "    for i in reversed(range(len(mylist) // 2)): # range()를 그냥 순서를 뒤집을 뿐임.\n",
    "        up_heap(mylist, i, heap_size)\n",
    "        \n",
    "def heap_sort(heap=None):\n",
    "    tmp_arry = list()\n",
    "    for i in range(len(heap)):\n",
    "        tmp_arry.append(heap.pop(0))\n",
    "        up_heap(heap, 0, len(heap)-1)\n",
    "    return tmp_arry"
   ]
  },
  {
   "cell_type": "code",
   "execution_count": 17,
   "metadata": {},
   "outputs": [
    {
     "name": "stdin",
     "output_type": "stream",
     "text": [
      "정렬할 데이터의 수 :  50\n"
     ]
    },
    {
     "name": "stdout",
     "output_type": "stream",
     "text": [
      "<<정렬 전>>\n",
      "[1679, 2169, 5688, 1226, 3059, 2922, 3586, 1777, 9848, 3930, 3833, 8866, 6271, 4095, 8180, 6423, 7343, 4057, 3527, 3667, 4192, 2565, 1500, 1897, 981, 9919, 5026, 1562, 6833, 5895, 17, 2510, 2905, 7767, 4914, 130, 3052, 2864, 4550, 4401, 628, 2008, 4272, 3401, 4426, 2676, 8031, 3822, 5579, 6474]\n",
      "<<정렬 후>>\n",
      "[9919, 9848, 8866, 8031, 8180, 7767, 7343, 6474, 4550, 5688, 6423, 6833, 6271, 5895, 5579, 4914, 4426, 4057, 4272, 4401, 3930, 3833, 3586, 5026, 3401, 4192, 4095, 3052, 2922, 2905, 3667, 2510, 2169, 2864, 3059, 2565, 2008, 1777, 1562, 3527, 3822, 2676, 1897, 1679, 1500, 1226, 628, 981, 130, 17]\n"
     ]
    }
   ],
   "source": [
    "import random\n",
    "data = []\n",
    "input_n = input(\"정렬할 데이터의 수 : \")\n",
    "data = [ random.randint(1, 9999) for _ in range(int(input_n))]\n",
    "print(\"<<정렬 전>>\")\n",
    "print(data)\n",
    "\n",
    "build_heap(data)\n",
    "sorted_data = heap_sort(data)\n",
    "\n",
    "print(\"<<정렬 후>>\")\n",
    "print(sorted_data)"
   ]
  },
  {
   "cell_type": "code",
   "execution_count": 11,
   "metadata": {},
   "outputs": [
    {
     "data": {
      "text/plain": [
       "170"
      ]
     },
     "execution_count": 11,
     "metadata": {},
     "output_type": "execute_result"
    }
   ],
   "source": [
    "85 << 1"
   ]
  },
  {
   "cell_type": "code",
   "execution_count": 15,
   "metadata": {},
   "outputs": [
    {
     "name": "stdout",
     "output_type": "stream",
     "text": [
      "0\n",
      "1\n",
      "2\n",
      "3\n",
      "4\n",
      "5\n",
      "6\n",
      "7\n",
      "8\n",
      "9\n"
     ]
    }
   ],
   "source": [
    "for i in range(10):\n",
    "    print(i)"
   ]
  },
  {
   "cell_type": "code",
   "execution_count": 13,
   "metadata": {},
   "outputs": [
    {
     "name": "stdout",
     "output_type": "stream",
     "text": [
      "9\n",
      "8\n",
      "7\n",
      "6\n",
      "5\n",
      "4\n",
      "3\n",
      "2\n",
      "1\n",
      "0\n"
     ]
    }
   ],
   "source": [
    "for i in reversed(range(10)):\n",
    "    print(i)"
   ]
  },
  {
   "cell_type": "code",
   "execution_count": null,
   "metadata": {},
   "outputs": [],
   "source": []
  }
 ],
 "metadata": {
  "kernelspec": {
   "display_name": "Python 3",
   "language": "python",
   "name": "python3"
  },
  "language_info": {
   "codemirror_mode": {
    "name": "ipython",
    "version": 3
   },
   "file_extension": ".py",
   "mimetype": "text/x-python",
   "name": "python",
   "nbconvert_exporter": "python",
   "pygments_lexer": "ipython3",
   "version": "3.7.4"
  }
 },
 "nbformat": 4,
 "nbformat_minor": 4
}
