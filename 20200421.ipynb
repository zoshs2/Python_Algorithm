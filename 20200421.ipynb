{
 "cells": [
  {
   "cell_type": "markdown",
   "metadata": {},
   "source": [
    "# 알고리즘의 성능 비교를 위한 대표적인 방법 : O 표기법  \n",
    "<font size=3>**O표기법**은 최선의 성능, 최악의 성능 중에서 최악의 성능에 대한 측정 방법이다!<br> \n",
    "최악의 성능 평가에 대한 측정을 하는 이유는 <br>\n",
    "**적어도 이 정도 성능 이상은 보장한다**는 의미이기 때문이다.</font>"
   ]
  },
  {
   "cell_type": "markdown",
   "metadata": {},
   "source": [
    "<font size=3> **2_1_O_notation.py** 을 보자. <br>\n",
    "1부터 100까지 더하여 결과를 화면에 출력하는 프로그램이다. </font>"
   ]
  },
  {
   "cell_type": "markdown",
   "metadata": {},
   "source": [
    "# Lesson 3 : 연결 리스트(Linked List)\n",
    "<font size=3> **3_2_LinkedList1.py**를 보자.<br>\n",
    "**3_2_LinkedList2.py**는 노드들 중간에 다른 노드를 끼워넣는 실습이다. </font>"
   ]
  },
  {
   "cell_type": "code",
   "execution_count": null,
   "metadata": {},
   "outputs": [],
   "source": []
  }
 ],
 "metadata": {
  "kernelspec": {
   "display_name": "Python 3",
   "language": "python",
   "name": "python3"
  },
  "language_info": {
   "codemirror_mode": {
    "name": "ipython",
    "version": 3
   },
   "file_extension": ".py",
   "mimetype": "text/x-python",
   "name": "python",
   "nbconvert_exporter": "python",
   "pygments_lexer": "ipython3",
   "version": "3.7.4"
  }
 },
 "nbformat": 4,
 "nbformat_minor": 4
}
