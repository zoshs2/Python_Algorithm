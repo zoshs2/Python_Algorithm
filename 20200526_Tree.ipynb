{
 "cells": [
  {
   "cell_type": "markdown",
   "metadata": {},
   "source": [
    "# Tree의 순회(Traverse) 알고리즘\n",
    "<font size = 3> 트리구조에서 사용하는 트리 순회 알고리즘은 다음과 같이 4가지 알고리즘이 존재한다. <br>\n",
    "    **전위 순회(Pre-Order Traverse)** : 루트부터 왼쪽 말단노드(또는 터미널 노드, 또는 리프 노드)까지의 순서로 순회하는 알고리즘. <br>\n",
    "    **중위 순회(In-Order Traverse)** : 왼쪽 말단노드부터 시작해서 그의 부모노드 그리고 형제노드 순서로 순회하는 알고리즘. <br>\n",
    "    **후위 순회(Post-Order Traverse)** : 왼쪽 말단노드부터 형제노드를 먼저 들리고, 부모노드를 가는 순서로 순회하는 알고리즘. <br>\n",
    "    **단계 순위 순회(Level-Order Traverse)** : 루트 노드(레벨 0)에서부터 한 단계씩 레벨을 증가시켜 왼쪽 노드부터 순회하는 알고리즘. <br>\n",
    "    </font>"
   ]
  },
  {
   "cell_type": "code",
   "execution_count": 50,
   "metadata": {},
   "outputs": [],
   "source": [
    "class Node:\n",
    "    def __init__(self, data):\n",
    "        self.data = data\n",
    "        self.left = None\n",
    "        self.right = None\n",
    "\n",
    "def init_tree():\n",
    "    global root\n",
    "    \n",
    "    new_node = Node(\"A\")\n",
    "    root = new_node\n",
    "    new_node = Node(\"B\")\n",
    "    root.left = new_node\n",
    "    new_node = Node(\"C\")\n",
    "    root.right = new_node\n",
    "    new_node_1 = Node(\"D\")\n",
    "    new_node_2 = Node(\"E\")\n",
    "    node = root.left # root.left => B객체 주소 / B 정보에다가 \n",
    "    node.left = new_node_1 # left 정보를 입력하고 \n",
    "    node.right = new_node_2 # right 정보를 입력했다. 이제 B객체에는 left, right 멤버변수에 정보가 채워졌다. node변수는 이제 쓸모없음.\n",
    "     \n",
    "    new_node_1 = Node(\"F\")\n",
    "    new_node_2 = Node(\"G\")\n",
    "    node = root.right # node 변수의 재활용. 위랑 같은 목적.\n",
    "    node.left = new_node_1\n",
    "    node.right = new_node_2\n",
    "    \n",
    "    ## 멤버변수 안에다가 클래스 객체 주소를 담아버려서 링크드 리스트처럼 활용하는게 인상적.\n",
    "    ## 서로 계속 꼬리물기로 이어나가는거야!\n",
    "    \n",
    "def preorder_traverse(node): # 전위 순회 알고리즘 코드 \n",
    "    if node == None: return\n",
    "    print(node.data, end = '' if node.data == 'G' else '->')\n",
    "    preorder_traverse(node.left) # recursive 재귀함수\n",
    "    preorder_traverse(node.right)\n",
    "    # node.data(루트노드)를 먼저 출력하고, node.left의 data를 출력하고, node.left의 left의 data를 출력하고, 말단 노드를 만나게 되면 node.left는 None이 되고,\n",
    "    # 재귀(recursion)은 종료된다.\n",
    "    # 그러면 다음으로 node.right도 마찬가지로 같은 방식으로 작동.\n",
    "    \n",
    "def inorder_traverse(node):\n",
    "    if node == None: return\n",
    "    inorder_traverse(node.left)\n",
    "    print(node.data, end = '->' if node.data != 'G' else '') # 재귀함수로 계속 함수들이 호출되면서 D의 left(=Node)를 재귀에 넣었을 때 함수는 곧 바로 return(종료)되고,\n",
    "                                  # D 노드 시기의 print()가 출력된다. 즉, node.data로서 D-> 부터 시작.\n",
    "    inorder_traverse(node.right)\n",
    "    # 대박인데...?ㅋ\n",
    "    \n",
    "def postorder_traverse(node):\n",
    "    if node == None: return\n",
    "    postorder_traverse(node.left)\n",
    "    postorder_traverse(node.right)\n",
    "    print(node.data, end = '->' if node.data != 'A' else '')\n",
    "    \n",
    "levelq = []\n",
    "\n",
    "def levelorder_traverse(node):\n",
    "    global levelq\n",
    "    levelq.append(node)\n",
    "    while len(levelq) != 0:\n",
    "        # visit\n",
    "        visit_node = levelq.pop(0)\n",
    "        print(visit_node.data, end = '->')\n",
    "        # child put\n",
    "        if visit_node.left != None:\n",
    "            levelq.append(visit_node.left)\n",
    "        if visit_node.right != None:\n",
    "            levelq.append(visit_node.right)"
   ]
  },
  {
   "cell_type": "code",
   "execution_count": 51,
   "metadata": {},
   "outputs": [],
   "source": [
    "init_tree()"
   ]
  },
  {
   "cell_type": "code",
   "execution_count": 52,
   "metadata": {},
   "outputs": [
    {
     "data": {
      "text/plain": [
       "<__main__.Node at 0x1068d9fd0>"
      ]
     },
     "execution_count": 52,
     "metadata": {},
     "output_type": "execute_result"
    }
   ],
   "source": [
    "root.left"
   ]
  },
  {
   "cell_type": "code",
   "execution_count": 53,
   "metadata": {},
   "outputs": [
    {
     "name": "stdout",
     "output_type": "stream",
     "text": [
      "A->B->D->E->C->F->G"
     ]
    }
   ],
   "source": [
    "preorder_traverse(root)"
   ]
  },
  {
   "cell_type": "code",
   "execution_count": 54,
   "metadata": {},
   "outputs": [
    {
     "name": "stdout",
     "output_type": "stream",
     "text": [
      "D->B->E->A->F->C->G"
     ]
    }
   ],
   "source": [
    "inorder_traverse(root)"
   ]
  },
  {
   "cell_type": "code",
   "execution_count": 55,
   "metadata": {},
   "outputs": [
    {
     "name": "stdout",
     "output_type": "stream",
     "text": [
      "D->E->B->F->G->C->A"
     ]
    }
   ],
   "source": [
    "postorder_traverse(root)"
   ]
  },
  {
   "cell_type": "code",
   "execution_count": 56,
   "metadata": {},
   "outputs": [
    {
     "name": "stdout",
     "output_type": "stream",
     "text": [
      "A->B->C->D->E->F->G->"
     ]
    }
   ],
   "source": [
    "levelorder_traverse(root)"
   ]
  },
  {
   "cell_type": "code",
   "execution_count": 24,
   "metadata": {},
   "outputs": [
    {
     "name": "stdout",
     "output_type": "stream",
     "text": [
      "Sleep 10 seconds from now on...\n",
      "1 s...\n",
      "2 s...\n",
      "3 s...\n",
      "4 s...\n",
      "5 s...\n",
      "6 s...\n",
      "7 s...\n",
      "8 s...\n",
      "9 s...\n",
      "10 s...\n",
      "Wake up!!\n"
     ]
    }
   ],
   "source": [
    "import time # 재밌는 time의 sleep 함수ㅋㅋ; 프로세스를 해당 시간동안 일시정지 시키는 것. (실수단위로 미세조정이 가능하다)\n",
    "\n",
    "print(\"Sleep 10 seconds from now on...\")\n",
    "for i in range(10):\n",
    "    time.sleep(1)\n",
    "    print(i+1,'s...')\n",
    "print(\"Wake up!!\")"
   ]
  },
  {
   "cell_type": "code",
   "execution_count": null,
   "metadata": {},
   "outputs": [],
   "source": []
  }
 ],
 "metadata": {
  "kernelspec": {
   "display_name": "Python 3",
   "language": "python",
   "name": "python3"
  },
  "language_info": {
   "codemirror_mode": {
    "name": "ipython",
    "version": 3
   },
   "file_extension": ".py",
   "mimetype": "text/x-python",
   "name": "python",
   "nbconvert_exporter": "python",
   "pygments_lexer": "ipython3",
   "version": "3.7.4"
  }
 },
 "nbformat": 4,
 "nbformat_minor": 4
}
