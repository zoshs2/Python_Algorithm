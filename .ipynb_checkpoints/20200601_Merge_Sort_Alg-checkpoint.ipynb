{
 "cells": [
  {
   "cell_type": "code",
   "execution_count": 6,
   "metadata": {},
   "outputs": [],
   "source": [
    "# 병합 정렬 알고리즘 (Merge Sort Algorithm)\n",
    "# 2개 또는 3개의 데이터끼리 묶는데, 이 하나의 묶음을 RUN(런)이라고 부른다.\n",
    "# 2개의 데이터끼리 묶어 RUN을 다룰 때는 2-way 병합 정렬 알고리즘,\n",
    "# 3개의 데이터끼리 묶어 RUN을 다룰 때는 3-way 병합 정렬 알고리즘 이라고 부른다.\n",
    "\n",
    "# 퀵 정렬 알고리즘과 비슷하게 재귀호출(recursive call)을 사용한다.\n",
    "\n",
    "def merge_sort(mylist):\n",
    "    if len(mylist) <= 1: return mylist # 정렬할 리스트의 크기가 1개라면, 정렬을 멈춘다.\n",
    "    half = len(mylist) // 2 # 리스트 전체 크기의 반인 index\n",
    "    left_list = merge_sort(mylist[:half]) # 반쪽의 왼쪽편 부분을 가지고 merge_sort를 수행한다. 데이터묶음이 2개로 묶일 떄까지 계속 나눈다.\n",
    "    right_list = merge_sort(mylist[half:]) # 반에서 오른쪽편 부분 \n",
    "    \n",
    "    merged_list = []\n",
    "    \n",
    "    while len(left_list) > 0 and len(right_list) > 0: # 양쪽 리스트에서 비교대상이 없어질때까지 계속 비교하면서 append\n",
    "        if left_list[0] > right_list[0]: # 2개로 묶인 데이터들의 크기관계를 비교.\n",
    "            merged_list.append(right_list[0])\n",
    "            right_list.pop(0)\n",
    "        else:\n",
    "            merged_list.append(left_list[0])\n",
    "            left_list.pop(0)\n",
    "    \n",
    "    # 둘(Left, Right) 중 남은 배열(Left or Right)을 뒤에 추가\n",
    "    if len(left_list) > 0: merged_list += left_list \n",
    "    if len(right_list) > 0: merged_list += right_list \n",
    "    return merged_list"
   ]
  },
  {
   "cell_type": "code",
   "execution_count": 11,
   "metadata": {},
   "outputs": [],
   "source": [
    "a = [1,2,3,4,5,6] \n",
    "b = [7,8,9]\n",
    "a+= b"
   ]
  },
  {
   "cell_type": "code",
   "execution_count": 12,
   "metadata": {},
   "outputs": [
    {
     "name": "stdout",
     "output_type": "stream",
     "text": [
      "[1, 2, 3, 4, 5, 6, 7, 8, 9] [7, 8, 9]\n",
      "[1, 2, 3, 4, 5, 6, 7, 8, 9] [8, 9]\n"
     ]
    }
   ],
   "source": [
    "print(a, b)\n",
    "b.pop(0)\n",
    "print(a, b)"
   ]
  },
  {
   "cell_type": "code",
   "execution_count": 8,
   "metadata": {},
   "outputs": [
    {
     "name": "stdin",
     "output_type": "stream",
     "text": [
      "정렬할 데이터의 수 :  100\n"
     ]
    },
    {
     "name": "stdout",
     "output_type": "stream",
     "text": [
      "<<정렬 전>>\n",
      "[70815, 49687, 70233, 14727, 27434, 17230, 27714, 50355, 18325, 59721, 13544, 46416, 76921, 93553, 37165, 20762, 83147, 40118, 35943, 42664, 47639, 19988, 33194, 58351, 30143, 20630, 40522, 62099, 55016, 70295, 79959, 49981, 7138, 64875, 57187, 41020, 72951, 76717, 89866, 4345, 66767, 48879, 39346, 13648, 53935, 22630, 57478, 91279, 69839, 97976, 67609, 64886, 36386, 377, 70333, 45511, 47221, 92773, 88645, 49271, 38781, 58646, 37434, 46203, 68349, 93562, 86925, 88519, 98506, 48741, 65381, 28068, 89336, 8457, 52421, 51317, 48857, 66851, 80140, 29160, 36967, 40447, 76122, 24615, 48800, 359, 30932, 36449, 2615, 71079, 63861, 31257, 88116, 80458, 61663, 51536, 9386, 2765, 96132, 85470]\n",
      "<<정렬 후>>\n",
      "[359, 377, 2615, 2765, 4345, 7138, 8457, 9386, 13544, 13648, 14727, 17230, 18325, 19988, 20630, 20762, 22630, 24615, 27434, 27714, 28068, 29160, 30143, 30932, 31257, 33194, 35943, 36386, 36449, 36967, 37165, 37434, 38781, 39346, 40118, 40447, 40522, 41020, 42664, 45511, 46203, 46416, 47221, 47639, 48741, 48800, 48857, 48879, 49271, 49687, 49981, 50355, 51317, 51536, 52421, 53935, 55016, 57187, 57478, 58351, 58646, 59721, 61663, 62099, 63861, 64875, 64886, 65381, 66767, 66851, 67609, 68349, 69839, 70233, 70295, 70333, 70815, 71079, 72951, 76122, 76717, 76921, 79959, 80140, 80458, 83147, 85470, 86925, 88116, 88519, 88645, 89336, 89866, 91279, 92773, 93553, 93562, 96132, 97976, 98506]\n"
     ]
    }
   ],
   "source": [
    "from random import randint\n",
    "data = []\n",
    "input_n = input(\"정렬할 데이터의 수 : \")\n",
    "data = [ randint(1, 99999) for x in range(int(input_n)) ]\n",
    "print(\"<<정렬 전>>\")\n",
    "print(data)\n",
    "\n",
    "sorted_data = merge_sort(data)\n",
    "print(\"<<정렬 후>>\")\n",
    "print(sorted_data)"
   ]
  },
  {
   "cell_type": "code",
   "execution_count": null,
   "metadata": {},
   "outputs": [],
   "source": []
  }
 ],
 "metadata": {
  "kernelspec": {
   "display_name": "Python 3",
   "language": "python",
   "name": "python3"
  },
  "language_info": {
   "codemirror_mode": {
    "name": "ipython",
    "version": 3
   },
   "file_extension": ".py",
   "mimetype": "text/x-python",
   "name": "python",
   "nbconvert_exporter": "python",
   "pygments_lexer": "ipython3",
   "version": "3.7.4"
  }
 },
 "nbformat": 4,
 "nbformat_minor": 4
}
