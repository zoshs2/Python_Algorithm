{
 "cells": [
  {
   "cell_type": "code",
   "execution_count": 3,
   "metadata": {},
   "outputs": [],
   "source": [
    "# 거품 정렬 알고리즘 (Bubble Sort Algorithm) : 순차적으로 '바로 옆에 있는 데이터와 비교'해서 옆의 데이터가 크면 자신과 위치를 변경한다.\n",
    "import random\n",
    "import time\n",
    "\n",
    "def bubble_sort(random_list):\n",
    "    for start_index in range(len(random_list) - 1):\n",
    "        for index in range(1, len(random_list) - start_index):\n",
    "            if random_list[index-1] > random_list[index]:\n",
    "                print(\"1 : \", random_list)\n",
    "                temp = random_list[index-1]\n",
    "                random_list[index-1] = random_list[index]\n",
    "                random_list[index] = temp\n",
    "                print(\"2 : \", random_list)\n",
    "        print(\"===========================================\")"
   ]
  },
  {
   "cell_type": "code",
   "execution_count": null,
   "metadata": {},
   "outputs": [],
   "source": [
    "[8,5,7,2,4]\n",
    " 0 1 2 3 4 len(list) = 5\n",
    "    \n",
    "[5,8,7,2,4]\n",
    " 0 1 2 3 4\n",
    "    \n",
    "[5,7,8,2,4]\n",
    " 0 1 2 3 4\n",
    "    \n",
    "[5,7,2,8,4]\n",
    " 0 1 2 3 4\n",
    "\n",
    "[5,7,2,4,8]\n",
    " 0 1 2 3 4  # start_index 0 끝 (1회전 끝?) \n",
    "    \n",
    "# start_index 1 시작\n",
    "for index in range(1, 5-1): # 끝에 녀석은 어차피 제일 큰 수일테니 제외하고\n",
    "[5,7,2,4,8]\n",
    " 0 1 2 3 4\n",
    "    \n",
    "[5,2,7,4,8]\n",
    " 0 1 2 3 4\n",
    "    \n",
    "[5,2,4,7,8] # start_index 1 끝 (2회전 끝)\n",
    "\n",
    "# start_index 2 시작\n",
    "for index in range(1, 5-2): # 끝에 두 녀석은 이미 정렬되어 있으므로, 제외!\n",
    "[5,2,4,7,8]\n",
    " 0 1 2 3 4\n",
    "    \n",
    "[2,5,4,7,8]\n",
    " 0 1 2 3 4\n",
    "    \n",
    "[2,4,5,7,8] # start_index 2 끝 (3회전 끝)\n",
    "\n",
    "# start_index 3 시작\n",
    "for index in range(1, 5-3): # 끝에 세 녀석은 이미 정렬,그래서 제외!\n",
    "[2,4,5,7,8]\n",
    " 0 1 2 3 4\n",
    "    \n",
    "[2,4,5,7,8] # start_index 3 끝 (4회전 끝)\n",
    "\n",
    "# 끝 종료"
   ]
  },
  {
   "cell_type": "code",
   "execution_count": 8,
   "metadata": {},
   "outputs": [
    {
     "name": "stdout",
     "output_type": "stream",
     "text": [
      "<정렬 전>\n",
      "[8, 5, 7, 2, 4]\n",
      "1 :  [8, 5, 7, 2, 4]\n",
      "2 :  [5, 8, 7, 2, 4]\n",
      "1 :  [5, 8, 7, 2, 4]\n",
      "2 :  [5, 7, 8, 2, 4]\n",
      "1 :  [5, 7, 8, 2, 4]\n",
      "2 :  [5, 7, 2, 8, 4]\n",
      "1 :  [5, 7, 2, 8, 4]\n",
      "2 :  [5, 7, 2, 4, 8]\n",
      "===========================================\n",
      "1 :  [5, 7, 2, 4, 8]\n",
      "2 :  [5, 2, 7, 4, 8]\n",
      "1 :  [5, 2, 7, 4, 8]\n",
      "2 :  [5, 2, 4, 7, 8]\n",
      "===========================================\n",
      "1 :  [5, 2, 4, 7, 8]\n",
      "2 :  [2, 5, 4, 7, 8]\n",
      "1 :  [2, 5, 4, 7, 8]\n",
      "2 :  [2, 4, 5, 7, 8]\n",
      "===========================================\n",
      "===========================================\n",
      "<정렬 후>\n",
      "[2, 4, 5, 7, 8]\n",
      "데이터의 크기 : 10\n",
      "실행시간 : 0.0005900859832763672\n"
     ]
    }
   ],
   "source": [
    "if __name__ == \"__main__\":\n",
    "    list = [8,5,7,2,4]\n",
    "    #input_n = input(\"정렬할 데이터의 수 : \")\n",
    "    #for i in range(int(input_n)):\n",
    "    #    list.append(random.randint(1, int(input_n)))\n",
    "    print(\"<정렬 전>\")\n",
    "    print(list)\n",
    "    \n",
    "    start_time = time.time()\n",
    "    bubble_sort(list)\n",
    "    running_time = time.time() - start_time\n",
    "    \n",
    "    print(\"<정렬 후>\")\n",
    "    print(list)\n",
    "    \n",
    "    print(f\"데이터의 크기 : {int(input_n)}\")\n",
    "    print(f\"실행시간 : {running_time}\")"
   ]
  },
  {
   "cell_type": "code",
   "execution_count": null,
   "metadata": {},
   "outputs": [],
   "source": [
    "# 셸 정렬 알고리즘 (Shell Sort Algorithm) : 기본구조는 삽입 정렬 알고리즘과 비슷.\n",
    "#                                       1. 정렬할 데이터를 일정 구간별로 쪼갠다.\n",
    "#                                       2. 구간 내에서 정렬을 한다.\n",
    "#                                       3. 정렬이 끝나면, 구간들을 합쳐서 한번더 정렬한다.\n",
    "#                                       -> 성능면에서 삽입 정렬 알고리즘과 비교도 되지 않을 정도로 우수하다.\n",
    "import random\n",
    "import time\n",
    "\n",
    "def shell_sort(random_list):\n",
    "    h = 1\n",
    "    while h < len(random_list):\n",
    "        h = h * 3 + 1\n",
    "    h = h // 3 # // 는 몫을 반환한다. (%는 나머지)\n",
    "    \n",
    "    while h > 0:\n",
    "        "
   ]
  },
  {
   "cell_type": "code",
   "execution_count": null,
   "metadata": {},
   "outputs": [],
   "source": []
  }
 ],
 "metadata": {
  "kernelspec": {
   "display_name": "Python 3",
   "language": "python",
   "name": "python3"
  },
  "language_info": {
   "codemirror_mode": {
    "name": "ipython",
    "version": 3
   },
   "file_extension": ".py",
   "mimetype": "text/x-python",
   "name": "python",
   "nbconvert_exporter": "python",
   "pygments_lexer": "ipython3",
   "version": "3.7.4"
  }
 },
 "nbformat": 4,
 "nbformat_minor": 4
}
